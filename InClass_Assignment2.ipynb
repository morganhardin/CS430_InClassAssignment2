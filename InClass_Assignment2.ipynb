{
  "nbformat": 4,
  "nbformat_minor": 0,
  "metadata": {
    "colab": {
      "provenance": [],
      "collapsed_sections": []
    },
    "kernelspec": {
      "name": "python3",
      "display_name": "Python 3"
    },
    "language_info": {
      "name": "python"
    }
  },
  "cells": [
    {
      "cell_type": "markdown",
      "source": [
        "## Importing the Libraries"
      ],
      "metadata": {
        "id": "3SSXzViSjZwJ"
      }
    },
    {
      "cell_type": "markdown",
      "source": [
        "This imports pandas, numpy, and matplotlib.pyplot so that they can be used to manipulate and analyze the data from the csv file."
      ],
      "metadata": {
        "id": "eG6uEwK6tAKF"
      }
    },
    {
      "cell_type": "code",
      "execution_count": 376,
      "metadata": {
        "id": "BnCdd3ShjXgo"
      },
      "outputs": [],
      "source": [
        "import pandas as pd\n",
        "import numpy as np\n",
        "import matplotlib.pyplot as plt"
      ]
    },
    {
      "cell_type": "markdown",
      "source": [
        "## Reading the CSV File"
      ],
      "metadata": {
        "id": "MDtSMyEIjlu4"
      }
    },
    {
      "cell_type": "markdown",
      "source": [
        "`housing` is created here by using pandas to read the csv file and pull all the data into a single place."
      ],
      "metadata": {
        "id": "GStyMHDatHco"
      }
    },
    {
      "cell_type": "code",
      "source": [
        "housing = pd.read_csv(\"/content/drive/MyDrive/Colab Notebooks/CS 430 Machine Learning/InClass_Assignment2/newhousing.csv\")"
      ],
      "metadata": {
        "id": "CmXlKmVNjnUh"
      },
      "execution_count": 377,
      "outputs": []
    },
    {
      "cell_type": "markdown",
      "source": [
        "## Exploring the Dataset"
      ],
      "metadata": {
        "id": "Maiz1HIrj3Gb"
      }
    },
    {
      "cell_type": "markdown",
      "source": [
        "`housing.keys()` lists the columns in the dataset in an array. `housing.head()` allows the user to see the first 5 rows of the dataset. `housing.info()` allows the user to see the total number of entries, the datatypes of each column, how many entries are null / not null, and each column in the dataset. `value_counts()` is called to determine if `housing` is evenly distributed. Since it is, y does not need to be stratified later."
      ],
      "metadata": {
        "id": "KJBXdl_atNVX"
      }
    },
    {
      "cell_type": "code",
      "source": [
        "housing.keys()"
      ],
      "metadata": {
        "colab": {
          "base_uri": "https://localhost:8080/"
        },
        "id": "QibXVkT3kM45",
        "outputId": "18fe210b-70c4-4f7c-93b1-28c93ff74123"
      },
      "execution_count": 378,
      "outputs": [
        {
          "output_type": "execute_result",
          "data": {
            "text/plain": [
              "Index(['price', 'area', 'bedrooms', 'bathrooms', 'stories', 'mainroad',\n",
              "       'guestroom', 'basement', 'hotwaterheating', 'airconditioning',\n",
              "       'parking', 'prefarea', 'semi-furnished', 'unfurnished',\n",
              "       'areaperbedroom', 'bbratio'],\n",
              "      dtype='object')"
            ]
          },
          "metadata": {},
          "execution_count": 378
        }
      ]
    },
    {
      "cell_type": "code",
      "source": [
        "housing.head()"
      ],
      "metadata": {
        "colab": {
          "base_uri": "https://localhost:8080/",
          "height": 285
        },
        "id": "jXoUom9ij3Ny",
        "outputId": "d3861066-0e89-459c-a911-a57625f9be31"
      },
      "execution_count": 379,
      "outputs": [
        {
          "output_type": "execute_result",
          "data": {
            "text/plain": [
              "     price  area  bedrooms  bathrooms  stories  mainroad  guestroom  basement  \\\n",
              "0  5250000  5500         3          2        1         1          0         1   \n",
              "1  4480000  4040         3          1        2         1          0         0   \n",
              "2  3570000  3640         2          1        1         1          0         0   \n",
              "3  2870000  3040         2          1        1         0          0         0   \n",
              "4  3570000  4500         2          1        1         0          0         0   \n",
              "\n",
              "   hotwaterheating  airconditioning  parking  prefarea  semi-furnished  \\\n",
              "0                0                0        0         0               1   \n",
              "1                0                0        1         0               1   \n",
              "2                0                0        0         0               0   \n",
              "3                0                0        0         0               0   \n",
              "4                0                0        0         0               0   \n",
              "\n",
              "   unfurnished  areaperbedroom   bbratio  \n",
              "0            0     1833.333333  0.666667  \n",
              "1            0     1346.666667  0.333333  \n",
              "2            1     1820.000000  0.500000  \n",
              "3            1     1520.000000  0.500000  \n",
              "4            0     2250.000000  0.500000  "
            ],
            "text/html": [
              "\n",
              "  <div id=\"df-3ee4199a-f01c-431e-9c85-88c375f03965\">\n",
              "    <div class=\"colab-df-container\">\n",
              "      <div>\n",
              "<style scoped>\n",
              "    .dataframe tbody tr th:only-of-type {\n",
              "        vertical-align: middle;\n",
              "    }\n",
              "\n",
              "    .dataframe tbody tr th {\n",
              "        vertical-align: top;\n",
              "    }\n",
              "\n",
              "    .dataframe thead th {\n",
              "        text-align: right;\n",
              "    }\n",
              "</style>\n",
              "<table border=\"1\" class=\"dataframe\">\n",
              "  <thead>\n",
              "    <tr style=\"text-align: right;\">\n",
              "      <th></th>\n",
              "      <th>price</th>\n",
              "      <th>area</th>\n",
              "      <th>bedrooms</th>\n",
              "      <th>bathrooms</th>\n",
              "      <th>stories</th>\n",
              "      <th>mainroad</th>\n",
              "      <th>guestroom</th>\n",
              "      <th>basement</th>\n",
              "      <th>hotwaterheating</th>\n",
              "      <th>airconditioning</th>\n",
              "      <th>parking</th>\n",
              "      <th>prefarea</th>\n",
              "      <th>semi-furnished</th>\n",
              "      <th>unfurnished</th>\n",
              "      <th>areaperbedroom</th>\n",
              "      <th>bbratio</th>\n",
              "    </tr>\n",
              "  </thead>\n",
              "  <tbody>\n",
              "    <tr>\n",
              "      <th>0</th>\n",
              "      <td>5250000</td>\n",
              "      <td>5500</td>\n",
              "      <td>3</td>\n",
              "      <td>2</td>\n",
              "      <td>1</td>\n",
              "      <td>1</td>\n",
              "      <td>0</td>\n",
              "      <td>1</td>\n",
              "      <td>0</td>\n",
              "      <td>0</td>\n",
              "      <td>0</td>\n",
              "      <td>0</td>\n",
              "      <td>1</td>\n",
              "      <td>0</td>\n",
              "      <td>1833.333333</td>\n",
              "      <td>0.666667</td>\n",
              "    </tr>\n",
              "    <tr>\n",
              "      <th>1</th>\n",
              "      <td>4480000</td>\n",
              "      <td>4040</td>\n",
              "      <td>3</td>\n",
              "      <td>1</td>\n",
              "      <td>2</td>\n",
              "      <td>1</td>\n",
              "      <td>0</td>\n",
              "      <td>0</td>\n",
              "      <td>0</td>\n",
              "      <td>0</td>\n",
              "      <td>1</td>\n",
              "      <td>0</td>\n",
              "      <td>1</td>\n",
              "      <td>0</td>\n",
              "      <td>1346.666667</td>\n",
              "      <td>0.333333</td>\n",
              "    </tr>\n",
              "    <tr>\n",
              "      <th>2</th>\n",
              "      <td>3570000</td>\n",
              "      <td>3640</td>\n",
              "      <td>2</td>\n",
              "      <td>1</td>\n",
              "      <td>1</td>\n",
              "      <td>1</td>\n",
              "      <td>0</td>\n",
              "      <td>0</td>\n",
              "      <td>0</td>\n",
              "      <td>0</td>\n",
              "      <td>0</td>\n",
              "      <td>0</td>\n",
              "      <td>0</td>\n",
              "      <td>1</td>\n",
              "      <td>1820.000000</td>\n",
              "      <td>0.500000</td>\n",
              "    </tr>\n",
              "    <tr>\n",
              "      <th>3</th>\n",
              "      <td>2870000</td>\n",
              "      <td>3040</td>\n",
              "      <td>2</td>\n",
              "      <td>1</td>\n",
              "      <td>1</td>\n",
              "      <td>0</td>\n",
              "      <td>0</td>\n",
              "      <td>0</td>\n",
              "      <td>0</td>\n",
              "      <td>0</td>\n",
              "      <td>0</td>\n",
              "      <td>0</td>\n",
              "      <td>0</td>\n",
              "      <td>1</td>\n",
              "      <td>1520.000000</td>\n",
              "      <td>0.500000</td>\n",
              "    </tr>\n",
              "    <tr>\n",
              "      <th>4</th>\n",
              "      <td>3570000</td>\n",
              "      <td>4500</td>\n",
              "      <td>2</td>\n",
              "      <td>1</td>\n",
              "      <td>1</td>\n",
              "      <td>0</td>\n",
              "      <td>0</td>\n",
              "      <td>0</td>\n",
              "      <td>0</td>\n",
              "      <td>0</td>\n",
              "      <td>0</td>\n",
              "      <td>0</td>\n",
              "      <td>0</td>\n",
              "      <td>0</td>\n",
              "      <td>2250.000000</td>\n",
              "      <td>0.500000</td>\n",
              "    </tr>\n",
              "  </tbody>\n",
              "</table>\n",
              "</div>\n",
              "      <button class=\"colab-df-convert\" onclick=\"convertToInteractive('df-3ee4199a-f01c-431e-9c85-88c375f03965')\"\n",
              "              title=\"Convert this dataframe to an interactive table.\"\n",
              "              style=\"display:none;\">\n",
              "        \n",
              "  <svg xmlns=\"http://www.w3.org/2000/svg\" height=\"24px\"viewBox=\"0 0 24 24\"\n",
              "       width=\"24px\">\n",
              "    <path d=\"M0 0h24v24H0V0z\" fill=\"none\"/>\n",
              "    <path d=\"M18.56 5.44l.94 2.06.94-2.06 2.06-.94-2.06-.94-.94-2.06-.94 2.06-2.06.94zm-11 1L8.5 8.5l.94-2.06 2.06-.94-2.06-.94L8.5 2.5l-.94 2.06-2.06.94zm10 10l.94 2.06.94-2.06 2.06-.94-2.06-.94-.94-2.06-.94 2.06-2.06.94z\"/><path d=\"M17.41 7.96l-1.37-1.37c-.4-.4-.92-.59-1.43-.59-.52 0-1.04.2-1.43.59L10.3 9.45l-7.72 7.72c-.78.78-.78 2.05 0 2.83L4 21.41c.39.39.9.59 1.41.59.51 0 1.02-.2 1.41-.59l7.78-7.78 2.81-2.81c.8-.78.8-2.07 0-2.86zM5.41 20L4 18.59l7.72-7.72 1.47 1.35L5.41 20z\"/>\n",
              "  </svg>\n",
              "      </button>\n",
              "      \n",
              "  <style>\n",
              "    .colab-df-container {\n",
              "      display:flex;\n",
              "      flex-wrap:wrap;\n",
              "      gap: 12px;\n",
              "    }\n",
              "\n",
              "    .colab-df-convert {\n",
              "      background-color: #E8F0FE;\n",
              "      border: none;\n",
              "      border-radius: 50%;\n",
              "      cursor: pointer;\n",
              "      display: none;\n",
              "      fill: #1967D2;\n",
              "      height: 32px;\n",
              "      padding: 0 0 0 0;\n",
              "      width: 32px;\n",
              "    }\n",
              "\n",
              "    .colab-df-convert:hover {\n",
              "      background-color: #E2EBFA;\n",
              "      box-shadow: 0px 1px 2px rgba(60, 64, 67, 0.3), 0px 1px 3px 1px rgba(60, 64, 67, 0.15);\n",
              "      fill: #174EA6;\n",
              "    }\n",
              "\n",
              "    [theme=dark] .colab-df-convert {\n",
              "      background-color: #3B4455;\n",
              "      fill: #D2E3FC;\n",
              "    }\n",
              "\n",
              "    [theme=dark] .colab-df-convert:hover {\n",
              "      background-color: #434B5C;\n",
              "      box-shadow: 0px 1px 3px 1px rgba(0, 0, 0, 0.15);\n",
              "      filter: drop-shadow(0px 1px 2px rgba(0, 0, 0, 0.3));\n",
              "      fill: #FFFFFF;\n",
              "    }\n",
              "  </style>\n",
              "\n",
              "      <script>\n",
              "        const buttonEl =\n",
              "          document.querySelector('#df-3ee4199a-f01c-431e-9c85-88c375f03965 button.colab-df-convert');\n",
              "        buttonEl.style.display =\n",
              "          google.colab.kernel.accessAllowed ? 'block' : 'none';\n",
              "\n",
              "        async function convertToInteractive(key) {\n",
              "          const element = document.querySelector('#df-3ee4199a-f01c-431e-9c85-88c375f03965');\n",
              "          const dataTable =\n",
              "            await google.colab.kernel.invokeFunction('convertToInteractive',\n",
              "                                                     [key], {});\n",
              "          if (!dataTable) return;\n",
              "\n",
              "          const docLinkHtml = 'Like what you see? Visit the ' +\n",
              "            '<a target=\"_blank\" href=https://colab.research.google.com/notebooks/data_table.ipynb>data table notebook</a>'\n",
              "            + ' to learn more about interactive tables.';\n",
              "          element.innerHTML = '';\n",
              "          dataTable['output_type'] = 'display_data';\n",
              "          await google.colab.output.renderOutput(dataTable, element);\n",
              "          const docLink = document.createElement('div');\n",
              "          docLink.innerHTML = docLinkHtml;\n",
              "          element.appendChild(docLink);\n",
              "        }\n",
              "      </script>\n",
              "    </div>\n",
              "  </div>\n",
              "  "
            ]
          },
          "metadata": {},
          "execution_count": 379
        }
      ]
    },
    {
      "cell_type": "code",
      "source": [
        "housing.info()"
      ],
      "metadata": {
        "colab": {
          "base_uri": "https://localhost:8080/"
        },
        "id": "4sjnM8Bzj58X",
        "outputId": "357a84d5-dd3d-46fe-a861-501fb510fe42"
      },
      "execution_count": 380,
      "outputs": [
        {
          "output_type": "stream",
          "name": "stdout",
          "text": [
            "<class 'pandas.core.frame.DataFrame'>\n",
            "RangeIndex: 545 entries, 0 to 544\n",
            "Data columns (total 16 columns):\n",
            " #   Column           Non-Null Count  Dtype  \n",
            "---  ------           --------------  -----  \n",
            " 0   price            545 non-null    int64  \n",
            " 1   area             545 non-null    int64  \n",
            " 2   bedrooms         545 non-null    int64  \n",
            " 3   bathrooms        545 non-null    int64  \n",
            " 4   stories          545 non-null    int64  \n",
            " 5   mainroad         545 non-null    int64  \n",
            " 6   guestroom        545 non-null    int64  \n",
            " 7   basement         545 non-null    int64  \n",
            " 8   hotwaterheating  545 non-null    int64  \n",
            " 9   airconditioning  545 non-null    int64  \n",
            " 10  parking          545 non-null    int64  \n",
            " 11  prefarea         545 non-null    int64  \n",
            " 12  semi-furnished   545 non-null    int64  \n",
            " 13  unfurnished      545 non-null    int64  \n",
            " 14  areaperbedroom   545 non-null    float64\n",
            " 15  bbratio          545 non-null    float64\n",
            "dtypes: float64(2), int64(14)\n",
            "memory usage: 68.2 KB\n"
          ]
        }
      ]
    },
    {
      "cell_type": "code",
      "source": [
        "print(housing.value_counts())"
      ],
      "metadata": {
        "colab": {
          "base_uri": "https://localhost:8080/"
        },
        "id": "MWHVc88IoKEE",
        "outputId": "5e2a5bb3-2efa-4318-caa6-91f0bffa09fe"
      },
      "execution_count": 381,
      "outputs": [
        {
          "output_type": "stream",
          "name": "stdout",
          "text": [
            "price     area   bedrooms  bathrooms  stories  mainroad  guestroom  basement  hotwaterheating  airconditioning  parking  prefarea  semi-furnished  unfurnished  areaperbedroom  bbratio \n",
            "1750000   2910   3         1          1        0         0          0         0                0                0        0         0               0            970.000000      0.333333    1\n",
            "5229000   7085   3         1          1        1         1          1         0                0                2        1         1               0            2361.666667     0.333333    1\n",
            "5110000   11410  2         1          2        1         0          0         0                0                0        1         0               0            5705.000000     0.500000    1\n",
            "5145000   3410   3         1          2        0         0          0         0                1                0        0         1               0            1136.666667     0.333333    1\n",
            "          7980   3         1          1        1         0          0         0                0                1        1         1               0            2660.000000     0.333333    1\n",
            "                                                                                                                                                                                           ..\n",
            "3675000   3630   2         1          1        1         0          0         0                1                0        0         0               1            1815.000000     0.500000    1\n",
            "          3600   2         1          1        1         0          0         0                0                0        0         0               0            1800.000000     0.500000    1\n",
            "3640000   5960   3         1          2        1         1          1         0                0                0        0         0               1            1986.666667     0.333333    1\n",
            "          4280   2         1          1        1         0          0         0                1                2        0         1               0            2140.000000     0.500000    1\n",
            "13300000  7420   4         2          3        1         0          0         0                1                2        1         0               0            1855.000000     0.500000    1\n",
            "Length: 545, dtype: int64\n"
          ]
        }
      ]
    },
    {
      "cell_type": "markdown",
      "source": [
        "## Splitting and Training the Dataset"
      ],
      "metadata": {
        "id": "uVoc7g-okcp-"
      }
    },
    {
      "cell_type": "markdown",
      "source": [
        "The `x` and `y` variables are created using the drop method. `train_test_split` is called from sklearn to split the data 85/15 into 4 different parts: `x_train`, `x_test`, `y_train`, and `y_test`. `StandardScaler()` is called from `sklearn.preprocessing` to take the x and y sets and scales them to fit the rest of the data and make the model more accurate. This is useful because PCA requires scaling or else the model will not be trained correctly. It also will not impact the other regression techniques, only PCA."
      ],
      "metadata": {
        "id": "wDqFdNPSuzlP"
      }
    },
    {
      "cell_type": "code",
      "source": [
        "x = housing.drop(['price'], axis = 1)\n",
        "y = housing[['price']]"
      ],
      "metadata": {
        "id": "n_6EJl5JkKB-"
      },
      "execution_count": 382,
      "outputs": []
    },
    {
      "cell_type": "code",
      "source": [
        "from sklearn.preprocessing import StandardScaler\n",
        "sc_x = StandardScaler()\n",
        "sc_y = StandardScaler()\n",
        "x_scaled = sc_x.fit_transform(x)\n",
        "y_scaled = sc_y.fit_transform(y)"
      ],
      "metadata": {
        "id": "OH4HAIBNwOeG"
      },
      "execution_count": 383,
      "outputs": []
    },
    {
      "cell_type": "code",
      "source": [
        "from sklearn.model_selection import train_test_split\n",
        "x_train, x_test, y_train, y_test = train_test_split(x_scaled, y_scaled, test_size = 0.3, random_state = 42, shuffle = True)"
      ],
      "metadata": {
        "id": "VkPdsXEmklAa"
      },
      "execution_count": 384,
      "outputs": []
    },
    {
      "cell_type": "markdown",
      "source": [
        "## Linear Regression"
      ],
      "metadata": {
        "id": "Qi5JXdYrosWz"
      }
    },
    {
      "cell_type": "markdown",
      "source": [
        "`LinearRegression()` is called from sklearn and takes no parameters. It is then fitted to both x and y trains and the score is found. This model is not great since it is only about 68% accurate. Although this is decent, it could be better. The model is also trained and split well since the data is not overfitted or underfitted."
      ],
      "metadata": {
        "id": "nVj4K4qVxox5"
      }
    },
    {
      "cell_type": "code",
      "source": [
        "from sklearn.linear_model import LinearRegression\n",
        "lr = LinearRegression()\n",
        "lr.fit(x_train, y_train)"
      ],
      "metadata": {
        "colab": {
          "base_uri": "https://localhost:8080/"
        },
        "id": "4i9ClT19kohn",
        "outputId": "6fe91528-14c9-495d-bedb-061f27478b3a"
      },
      "execution_count": 385,
      "outputs": [
        {
          "output_type": "execute_result",
          "data": {
            "text/plain": [
              "LinearRegression()"
            ]
          },
          "metadata": {},
          "execution_count": 385
        }
      ]
    },
    {
      "cell_type": "code",
      "source": [
        "lr.score(x_test, y_test)"
      ],
      "metadata": {
        "colab": {
          "base_uri": "https://localhost:8080/"
        },
        "id": "zHsVDMB8n3-v",
        "outputId": "94389ea1-b4b8-4209-a914-a07c5bd17056"
      },
      "execution_count": 386,
      "outputs": [
        {
          "output_type": "execute_result",
          "data": {
            "text/plain": [
              "0.6814896416143945"
            ]
          },
          "metadata": {},
          "execution_count": 386
        }
      ]
    },
    {
      "cell_type": "code",
      "source": [
        "lr.score(x_train, y_train)"
      ],
      "metadata": {
        "colab": {
          "base_uri": "https://localhost:8080/"
        },
        "id": "wr6TJZQHo5ru",
        "outputId": "fccf39af-c0b5-4b38-b5e2-5b6409545fb1"
      },
      "execution_count": 387,
      "outputs": [
        {
          "output_type": "execute_result",
          "data": {
            "text/plain": [
              "0.6760953066606616"
            ]
          },
          "metadata": {},
          "execution_count": 387
        }
      ]
    },
    {
      "cell_type": "markdown",
      "source": [
        "## Random Forest Regression"
      ],
      "metadata": {
        "id": "tXy0QrN5p_QJ"
      }
    },
    {
      "cell_type": "markdown",
      "source": [
        "`RandomForestRegressor()` is called from sklearn and is fitted to x and y trains. This model is better than the Linear Regression model with an accuracy score of 72%. It is also overfitted with the training sets having an accuracy score of 94%. "
      ],
      "metadata": {
        "id": "OUF-u6h-x9xZ"
      }
    },
    {
      "cell_type": "code",
      "source": [
        "from sklearn.ensemble import RandomForestRegressor\n",
        "rf = RandomForestRegressor()\n",
        "rf.fit(x_train, y_train)"
      ],
      "metadata": {
        "colab": {
          "base_uri": "https://localhost:8080/"
        },
        "id": "k_UGdnmdo-NT",
        "outputId": "174c1e7b-e636-4283-dd6c-24c12b7a1461"
      },
      "execution_count": 388,
      "outputs": [
        {
          "output_type": "stream",
          "name": "stderr",
          "text": [
            "/usr/local/lib/python3.7/dist-packages/ipykernel_launcher.py:3: DataConversionWarning: A column-vector y was passed when a 1d array was expected. Please change the shape of y to (n_samples,), for example using ravel().\n",
            "  This is separate from the ipykernel package so we can avoid doing imports until\n"
          ]
        },
        {
          "output_type": "execute_result",
          "data": {
            "text/plain": [
              "RandomForestRegressor()"
            ]
          },
          "metadata": {},
          "execution_count": 388
        }
      ]
    },
    {
      "cell_type": "code",
      "source": [
        "rf.score(x_test, y_test)"
      ],
      "metadata": {
        "colab": {
          "base_uri": "https://localhost:8080/"
        },
        "id": "sX1Mq3PmrDUG",
        "outputId": "7678ba93-8675-40b9-e30f-d25690b2727b"
      },
      "execution_count": 389,
      "outputs": [
        {
          "output_type": "execute_result",
          "data": {
            "text/plain": [
              "0.7148308328917126"
            ]
          },
          "metadata": {},
          "execution_count": 389
        }
      ]
    },
    {
      "cell_type": "code",
      "source": [
        "rf.score(x_train, y_train)"
      ],
      "metadata": {
        "colab": {
          "base_uri": "https://localhost:8080/"
        },
        "id": "W3eNtOHarIYv",
        "outputId": "7e64e890-bc8b-4e18-fa27-7ff20f7ec802"
      },
      "execution_count": 390,
      "outputs": [
        {
          "output_type": "execute_result",
          "data": {
            "text/plain": [
              "0.9330081177414645"
            ]
          },
          "metadata": {},
          "execution_count": 390
        }
      ]
    },
    {
      "cell_type": "markdown",
      "source": [
        "## PCA with Linear Regression"
      ],
      "metadata": {
        "id": "ihBQSnR-rZlV"
      }
    },
    {
      "cell_type": "markdown",
      "source": [
        "`PCA` is called here from sklearn's decomposition library. It takes the parameters of 10 n_components and is fitted to `x_scaled`. It is then trained again with the new `x_pca` with the same parameters. The `lr` variable is called again and fitted with the new x and y training sets. The scores show that the pca model worked since the scores stayed roughly the same and the model is not overfitted or underfitted."
      ],
      "metadata": {
        "id": "gE46oUC_yRjS"
      }
    },
    {
      "cell_type": "code",
      "source": [
        "from sklearn.decomposition import PCA\n",
        "pca = PCA(n_components = 10)\n",
        "pca.fit(x_scaled)\n",
        "x_pca = pca.transform(x_scaled)"
      ],
      "metadata": {
        "id": "toPkB7ydrKCY"
      },
      "execution_count": 391,
      "outputs": []
    },
    {
      "cell_type": "code",
      "source": [
        "x_pca.shape"
      ],
      "metadata": {
        "colab": {
          "base_uri": "https://localhost:8080/"
        },
        "id": "NkuklhjMrilA",
        "outputId": "911a83de-07fd-4ec0-e45e-1ed96d43e2a3"
      },
      "execution_count": 392,
      "outputs": [
        {
          "output_type": "execute_result",
          "data": {
            "text/plain": [
              "(545, 10)"
            ]
          },
          "metadata": {},
          "execution_count": 392
        }
      ]
    },
    {
      "cell_type": "code",
      "source": [
        "x_pca"
      ],
      "metadata": {
        "colab": {
          "base_uri": "https://localhost:8080/"
        },
        "id": "F9Ja7-GexH9L",
        "outputId": "e321e605-dded-4663-b8f8-77b2ee940f83"
      },
      "execution_count": 393,
      "outputs": [
        {
          "output_type": "execute_result",
          "data": {
            "text/plain": [
              "array([[ 0.6608588 , -0.17104646,  0.29030255, ..., -0.72534517,\n",
              "         0.1355855 , -0.8905853 ],\n",
              "       [-0.75750595, -0.45325575, -1.24020117, ..., -0.19650464,\n",
              "        -0.59505964, -0.46421049],\n",
              "       [-1.91995217,  1.54975914,  1.24787064, ...,  0.09681975,\n",
              "        -0.41720109, -0.27603045],\n",
              "       ...,\n",
              "       [-0.09605631,  1.65985667, -0.49436167, ...,  0.14449279,\n",
              "         0.74299408, -1.15045941],\n",
              "       [ 2.54323222,  4.34098798,  0.0854805 , ...,  0.19610311,\n",
              "         2.89864034, -0.45194424],\n",
              "       [-1.94832471, -0.90014852, -0.83130394, ..., -0.0165853 ,\n",
              "         1.4428123 ,  0.0454547 ]])"
            ]
          },
          "metadata": {},
          "execution_count": 393
        }
      ]
    },
    {
      "cell_type": "code",
      "source": [
        "x_train, x_test, y_train, y_test = train_test_split(x_pca, y_scaled, test_size = 0.3, random_state = 42, shuffle = True)"
      ],
      "metadata": {
        "id": "8wxtX0cXvwyo"
      },
      "execution_count": 394,
      "outputs": []
    },
    {
      "cell_type": "code",
      "source": [
        "lr.fit(x_train, y_train)"
      ],
      "metadata": {
        "colab": {
          "base_uri": "https://localhost:8080/"
        },
        "id": "7hKcCjobri5p",
        "outputId": "38ae8440-2b61-406d-fd8e-12f4064ff9c0"
      },
      "execution_count": 395,
      "outputs": [
        {
          "output_type": "execute_result",
          "data": {
            "text/plain": [
              "LinearRegression()"
            ]
          },
          "metadata": {},
          "execution_count": 395
        }
      ]
    },
    {
      "cell_type": "code",
      "source": [
        "lr.score(x_test, y_test)"
      ],
      "metadata": {
        "colab": {
          "base_uri": "https://localhost:8080/"
        },
        "id": "lzZSqGy4ryIy",
        "outputId": "48b68367-c739-4b52-bdbc-2d0b96368ebe"
      },
      "execution_count": 396,
      "outputs": [
        {
          "output_type": "execute_result",
          "data": {
            "text/plain": [
              "0.6771424578041668"
            ]
          },
          "metadata": {},
          "execution_count": 396
        }
      ]
    },
    {
      "cell_type": "code",
      "source": [
        "lr.score(x_train, y_train)"
      ],
      "metadata": {
        "colab": {
          "base_uri": "https://localhost:8080/"
        },
        "id": "0Hbfoyu_sE63",
        "outputId": "65d6c69e-add9-4bc8-aeae-27e41d4e9397"
      },
      "execution_count": 397,
      "outputs": [
        {
          "output_type": "execute_result",
          "data": {
            "text/plain": [
              "0.6699990539740093"
            ]
          },
          "metadata": {},
          "execution_count": 397
        }
      ]
    },
    {
      "cell_type": "markdown",
      "source": [
        "## PCA with Random Forest Regression"
      ],
      "metadata": {
        "id": "ZXWr9SeRsJIv"
      }
    },
    {
      "cell_type": "markdown",
      "source": [
        "Since the pca was already retrained previously, `rf` needs to be called and fitted again. This model was actually worse since the pca caused the scores to drop. It is also very overfitted so this is not the best model for this dataset."
      ],
      "metadata": {
        "id": "x3cb_zqI0hsc"
      }
    },
    {
      "cell_type": "code",
      "source": [
        "rf.fit(x_train, y_train)"
      ],
      "metadata": {
        "colab": {
          "base_uri": "https://localhost:8080/"
        },
        "id": "guIt_LMhsG1-",
        "outputId": "92b987da-15b6-4dd6-d9d0-a1a5d7223d80"
      },
      "execution_count": 398,
      "outputs": [
        {
          "output_type": "stream",
          "name": "stderr",
          "text": [
            "/usr/local/lib/python3.7/dist-packages/ipykernel_launcher.py:1: DataConversionWarning: A column-vector y was passed when a 1d array was expected. Please change the shape of y to (n_samples,), for example using ravel().\n",
            "  \"\"\"Entry point for launching an IPython kernel.\n"
          ]
        },
        {
          "output_type": "execute_result",
          "data": {
            "text/plain": [
              "RandomForestRegressor()"
            ]
          },
          "metadata": {},
          "execution_count": 398
        }
      ]
    },
    {
      "cell_type": "code",
      "source": [
        "rf.score(x_test, y_test)"
      ],
      "metadata": {
        "colab": {
          "base_uri": "https://localhost:8080/"
        },
        "id": "v9cj6V7tsTr_",
        "outputId": "0981efa8-42b7-45f0-8437-78bd17973f18"
      },
      "execution_count": 399,
      "outputs": [
        {
          "output_type": "execute_result",
          "data": {
            "text/plain": [
              "0.6661216872941594"
            ]
          },
          "metadata": {},
          "execution_count": 399
        }
      ]
    },
    {
      "cell_type": "code",
      "source": [
        "rf.score(x_train, y_train)"
      ],
      "metadata": {
        "colab": {
          "base_uri": "https://localhost:8080/"
        },
        "id": "9In23ECCsWrt",
        "outputId": "0517fd22-e864-44ea-f278-ea2c3b54346b"
      },
      "execution_count": 400,
      "outputs": [
        {
          "output_type": "execute_result",
          "data": {
            "text/plain": [
              "0.945211478800498"
            ]
          },
          "metadata": {},
          "execution_count": 400
        }
      ]
    },
    {
      "cell_type": "markdown",
      "source": [
        "# The best results for this dataset was the Linear Regression model since it had the best score. The PCA model worked well with this since it kept the data roughly the same for the Linear Regression model."
      ],
      "metadata": {
        "id": "ItH4plC81C2u"
      }
    }
  ]
}